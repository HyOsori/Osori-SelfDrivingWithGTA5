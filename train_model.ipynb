{
 "cells": [
  {
   "cell_type": "code",
   "execution_count": 1,
   "metadata": {},
   "outputs": [
    {
     "name": "stdout",
     "output_type": "stream",
     "text": [
      "Training Step: 4754  | total loss: \u001b[1m\u001b[32m0.23025\u001b[0m\u001b[0m | time: 293.566s\n",
      "| Momentum | epoch: 022 | loss: 0.23025 - acc: 0.9235 -- iter: 13888/13940\n",
      "Training Step: 4755  | total loss: \u001b[1m\u001b[32m0.22818\u001b[0m\u001b[0m | time: 296.718s\n",
      "| Momentum | epoch: 022 | loss: 0.22818 - acc: 0.9249 | val_loss: 0.29731 - val_acc: 0.9000 -- iter: 13940/13940\n",
      "--\n"
     ]
    }
   ],
   "source": [
    "# %load train_model.py\n",
    "import numpy as np\n",
    "import os\n",
    "from alexnet import alexnet\n",
    "\n",
    "datafile_name = 'training_data-'\n",
    "datafile_no = 1\n",
    "prefix_name = '-balanced'\n",
    "extension = '.npy'\n",
    "\n",
    "cwd = os.getcwd()\n",
    "for file_name in os.listdir(cwd):\n",
    "    print('{}-'.format(datafile_no) +  file_name)\n",
    "    if file_name.startswith(datafile_name) and file_name.find('-balanced.npy') != -1:\n",
    "        print('{} exists, loading previous data!'.format(file_name))\n",
    "        datafile_no += 1\n",
    "\n",
    "WIDTH = 160\n",
    "HEIGHT = 120\n",
    "LEARNING_RATE = 0.001\n",
    "EPOCHS = datafile_no\n",
    "\n",
    "MODELER = 'sikurity'\n",
    "MODEL_NAME = 'Osori-SelfDrivingWithGTA5_{}_{}_{}-epochs-300K-data.model'.format(MODELER, LEARNING_RATE, EPOCHS)\n",
    "\n",
    "model = alexnet(WIDTH, HEIGHT, LEARNING_RATE)\n",
    "for epoch in range(1, EPOCHS):\n",
    "    train_data = np.load(datafile_name + str(epoch) + prefix_name + extension)\n",
    "\n",
    "    train = train_data[:-100]\n",
    "    test = train_data[-100:]\n",
    "\n",
    "    X = np.array([i[0] for i in train]).reshape(-1,WIDTH,HEIGHT,1)\n",
    "    Y = [i[1] for i in train]\n",
    "\n",
    "    test_x = np.array([i[0] for i in test]).reshape(-1,WIDTH,HEIGHT,1)\n",
    "    test_y = [i[1] for i in test]\n",
    "\n",
    "    model.fit({'input': X}, {'targets': Y}, n_epoch=1, validation_set=({'input': test_x}, {'targets': test_y}),\n",
    "        snapshot_step=500, show_metric=True, run_id=MODEL_NAME)\n",
    "\n",
    "    model.save(MODEL_NAME)\n",
    "\n",
    "# tensorboard --logdir=./log\n"
   ]
  }
 ],
 "metadata": {
  "kernelspec": {
   "display_name": "Python 3",
   "language": "python",
   "name": "python3"
  },
  "language_info": {
   "codemirror_mode": {
    "name": "ipython",
    "version": 3
   },
   "file_extension": ".py",
   "mimetype": "text/x-python",
   "name": "python",
   "nbconvert_exporter": "python",
   "pygments_lexer": "ipython3",
   "version": "3.6.3"
  }
 },
 "nbformat": 4,
 "nbformat_minor": 2
}

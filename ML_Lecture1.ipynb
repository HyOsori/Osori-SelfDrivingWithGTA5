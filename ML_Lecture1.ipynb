{
 "cells": [
  {
   "cell_type": "markdown",
   "metadata": {
    "collapsed": true
   },
   "source": [
    "# Summary & Concept/Terms\n",
    "\n",
    "## Limit Of Explicit Programming\n",
    "     명시적 프로그래밍을 통한 문제 해결의 한계 - Ex) 스팸메일 필터링, 자율주행\n",
    "\n",
    "## What is ML\n",
    "     해결해야할 문제의 원인과 결과를 데이터로 입력해 그 상관관계를 학습을 통해 파악하는 것\n",
    "\n",
    "## Supervised Learning\n",
    "     많은 레이블 데이터를 이용해 학습\n",
    "\n",
    "## Unsupervised Learning\n",
    "     레이블 데이터 없이, 데이터를 그룹화, 클러스터링하여 학습\n",
    "\n",
    "## What is regression\n",
    "     목적값이 continuous 한 연속성을 가지고 있을 때\n",
    "\n",
    "## What is classification\n",
    "     목적값이 이산적일 때\n",
    "\n",
    "## Linear Regression\n",
    "     입력과 출력의 상관관계가 선형적일 것으로 예측하는 방식\n",
    "\n",
    "## Hypothesis\n",
    "     '가설'로 해석가능하고, ML에서는 수학적인 수식을 말함\n",
    "\n",
    "      y = Wx + b, (W: Weight, b: bias)\n",
    "\n",
    "## Cost Function(= Loss Function)\n",
    "     가설로 추측한 결과와 훈련용 데이터 실제 값의 차이를 계산해내는 함수\n",
    "\n",
    "     cost = (1 / m) * [sum of (H(x[i]) - y[i])^2], (m: number of datas, x: inputs, y: outputs)\n",
    "     H(x) = Wx + b, (W: Weight, b: bias)\n",
    "     => cost(w, B) = (1 / m) * [sum of (H(x[i]) - y[i])^2]\n",
    "\n",
    "## Purpose Of Machine Learning\n",
    "     Find W and B to minimize cost(W,b)\n",
    "\n",
    "## Gradient Descent Algorithm\n",
    "     경사하강법, Minimized Cost Fuction을 찾는 방법\n",
    "     (W, b) -> (W + △W, b + △b)로 조금씩 값을 바꿔가며 값이 가장 많이 작아지는 △(W, b)로 진행\n",
    "\n",
    "      학계에서는 Cost Function으로 아래의 식을 사용\n",
    "      cost(w, B) = (1 / 2m) * [sum of (H(x[i]) - y[i])^2]\n",
    "\n",
    "      W <= W - α * (δcost(W) / δW) = W - αcost'(W), (α: Learning Rate)\n",
    "        <= W - α * (1 / 2m) * (δ[sum of (W * x[i] + b - y[i])^2] / δW)\n",
    "        <= W - α * (1 / 2m) * [sum of 2 * x[i] * (W * x[i] + b- y[i])]\n",
    "        <= W - α * (1 / m) * [sum of x[i] * (W * x[i] + b - y[i])]\n",
    "\n",
    "## Convex Function\n",
    "     밥그릇을 엎어놓은 듯한 모양의 함수\n",
    "     엄밀한 정의는 어떤 지점에서든 Gradient Descent Algorithm을 적용하면 유일한 지점으로 수렴하는 함수\n",
    "\n"
   ]
  },
  {
   "cell_type": "markdown",
   "metadata": {},
   "source": [
    "# Tensorflow Version"
   ]
  },
  {
   "cell_type": "code",
   "execution_count": 1,
   "metadata": {},
   "outputs": [
    {
     "data": {
      "text/plain": [
       "'1.3.0'"
      ]
     },
     "execution_count": 1,
     "metadata": {},
     "output_type": "execute_result"
    }
   ],
   "source": [
    "import tensorflow as tf\n",
    "tf.__version__"
   ]
  },
  {
   "cell_type": "markdown",
   "metadata": {},
   "source": [
    "# Hello Tensorflow"
   ]
  },
  {
   "cell_type": "code",
   "execution_count": 3,
   "metadata": {},
   "outputs": [
    {
     "name": "stdout",
     "output_type": "stream",
     "text": [
      "b'Hello, Tensorflow!'\n"
     ]
    }
   ],
   "source": [
    "# Create a constant op\n",
    "# This op is added as a node to the default graph\n",
    "hello = tf.constant(\"Hello, Tensorflow!\")\n",
    "\n",
    "# start a TF session\n",
    "sess = tf.Session()\n",
    "\n",
    "# run the op and get result\n",
    "print(sess.run(hello))"
   ]
  },
  {
   "cell_type": "markdown",
   "metadata": {},
   "source": [
    "# Tensors"
   ]
  },
  {
   "cell_type": "code",
   "execution_count": 5,
   "metadata": {},
   "outputs": [
    {
     "data": {
      "text/plain": [
       "[[[1.0, 2.0, 3.0], [4.0, 5.0, 6.0]], [[7.0, 8.0, 9.0], [10.0, 11.0, 12.0]]]"
      ]
     },
     "execution_count": 5,
     "metadata": {},
     "output_type": "execute_result"
    }
   ],
   "source": [
    "[1., 2., 3.]\n",
    "[[1., 2., 3.], [4., 5., 6.]]\n",
    "[[[1., 2., 3.], [4., 5., 6.]], [[7., 8., 9.], [10., 11., 12.]]]"
   ]
  },
  {
   "cell_type": "markdown",
   "metadata": {},
   "source": [
    "# Computational Graph"
   ]
  },
  {
   "cell_type": "code",
   "execution_count": 7,
   "metadata": {
    "collapsed": true
   },
   "outputs": [],
   "source": [
    "node1 = tf.constant(3.0, tf.float32)\n",
    "node2 = tf.constant(4.0) # also tf.float32 implicitly\n",
    "node3 = tf.add(node1, node2)"
   ]
  },
  {
   "cell_type": "code",
   "execution_count": 9,
   "metadata": {},
   "outputs": [
    {
     "name": "stdout",
     "output_type": "stream",
     "text": [
      "node1: Tensor(\"Const_4:0\", shape=(), dtype=float32) node2: Tensor(\"Const_5:0\", shape=(), dtype=float32)\n",
      "node3:  Tensor(\"Add_1:0\", shape=(), dtype=float32)\n"
     ]
    }
   ],
   "source": [
    "print(\"node1:\", node1, \"node2:\", node2)\n",
    "print(\"node3: \", node3)"
   ]
  },
  {
   "cell_type": "code",
   "execution_count": 16,
   "metadata": {},
   "outputs": [
    {
     "name": "stdout",
     "output_type": "stream",
     "text": [
      "sess.run(node1, node2):  [3.0, 4.0]\n",
      "sess.run(node3):  7.0\n"
     ]
    }
   ],
   "source": [
    "sess = tf.Session()\n",
    "print(\"sess.run(node1, node2): \", sess.run([node1, node2]))\n",
    "print(\"sess.run(node3): \", sess.run(node3))"
   ]
  },
  {
   "cell_type": "markdown",
   "metadata": {},
   "source": [
    "![Graph](https://www.tensorflow.org/images/getting_started_adder.png)"
   ]
  },
  {
   "cell_type": "code",
   "execution_count": 14,
   "metadata": {},
   "outputs": [
    {
     "name": "stdout",
     "output_type": "stream",
     "text": [
      "7.5\n",
      "[ 3.  7.]\n"
     ]
    }
   ],
   "source": [
    "a = tf.placeholder(tf.float32)\n",
    "b = tf.placeholder(tf.float32)\n",
    "adder_node = a + b  # + provides a shortcut for tf.add(a, b)\n",
    "\n",
    "print(sess.run(adder_node, feed_dict={a: 3, b: 4.5}))\n",
    "print(sess.run(adder_node, feed_dict={a: [1,3], b: [2, 4]}))"
   ]
  },
  {
   "cell_type": "code",
   "execution_count": 15,
   "metadata": {},
   "outputs": [
    {
     "name": "stdout",
     "output_type": "stream",
     "text": [
      "22.5\n"
     ]
    }
   ],
   "source": [
    "add_and_triple = adder_node * 3.\n",
    "print(sess.run(add_and_triple, feed_dict={a: 3, b:4.5}))"
   ]
  }
 ],
 "metadata": {
  "kernelspec": {
   "display_name": "Python 3",
   "language": "python",
   "name": "python3"
  },
  "language_info": {
   "codemirror_mode": {
    "name": "ipython",
    "version": 3
   },
   "file_extension": ".py",
   "mimetype": "text/x-python",
   "name": "python",
   "nbconvert_exporter": "python",
   "pygments_lexer": "ipython3",
   "version": "3.6.2"
  }
 },
 "nbformat": 4,
 "nbformat_minor": 2
}
